{
 "metadata": {
  "language_info": {
   "codemirror_mode": {
    "name": "ipython",
    "version": 3
   },
   "file_extension": ".py",
   "mimetype": "text/x-python",
   "name": "python",
   "nbconvert_exporter": "python",
   "pygments_lexer": "ipython3",
   "version": 3
  },
  "orig_nbformat": 2
 },
 "nbformat": 4,
 "nbformat_minor": 2,
 "cells": [
  {
   "source": [
    "# COVID-19 Cases vs. Tweets\n",
    "\n",
    "The goal is to analyse how the number of Tweets regarding COVID-19 correlates with the case numbers in Germany. Due to the restrictions of the Twitter API, prominent Twitter accounts of German Politicians will be used.\n",
    "\n",
    "This analysis could easily be expanded for other countries and their politicians, or a more general population using the geolocation of tweets."
   ],
   "cell_type": "markdown",
   "metadata": {}
  },
  {
   "cell_type": "code",
   "execution_count": null,
   "metadata": {},
   "outputs": [],
   "source": []
  },
  {
   "source": [
    "## Ranking of the ten most popular German politicians on social networks in July 2020\n",
    "\n",
    "<img src=\"images/german_politicians_statista.png\" alt=\"Drawing\" style=\"width: 600px;\"/>\n",
    "\n",
    "source: https://www.statista.com/statistics/446360/social-media-ranking-of-the-most-popular-politicians-germany/\n",
    "\n",
    "\n",
    "### Twitter Handles:\n",
    "N/A <br>\n",
    "@sebastiankurz <br>\n",
    "@martinschulz <br>\n",
    "@SWagenknecht <br>\n",
    "N/A <br>\n",
    "@GregorGysi <br>\n",
    "@JunckerEU <br>\n",
    "@MartinSonneborn <br>\n",
    "@c_lindner <br>\n",
    "@nicosemsrott"
   ],
   "cell_type": "markdown",
   "metadata": {}
  },
  {
   "source": [
    "\n",
    "\n",
    "\n",
    "### Twitter Hashtags:"
   ],
   "cell_type": "markdown",
   "metadata": {}
  },
  {
   "cell_type": "code",
   "execution_count": null,
   "metadata": {},
   "outputs": [],
   "source": []
  },
  {
   "source": [
    "## Alternative handles:\n",
    "\n",
    "@BMG_Bund"
   ],
   "cell_type": "markdown",
   "metadata": {}
  }
 ]
}